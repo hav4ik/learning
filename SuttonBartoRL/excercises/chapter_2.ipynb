{
 "cells": [
  {
   "cell_type": "code",
   "execution_count": 1,
   "metadata": {},
   "outputs": [],
   "source": [
    "import numpy as np\n",
    "import matplotlib.pyplot as plt\n",
    "import seaborn as sns\n",
    "from tqdm import tqdm_notebook as tqdm\n",
    "\n",
    "sns.set()\n",
    "%matplotlib inline"
   ]
  },
  {
   "cell_type": "markdown",
   "metadata": {},
   "source": [
    "# Chapter 2: Multi-Armed Bandits\n",
    "\n",
    "In this chapter, all material are related to the K-bandits testbed"
   ]
  },
  {
   "cell_type": "code",
   "execution_count": 2,
   "metadata": {},
   "outputs": [],
   "source": [
    "class KArmedTestbed:\n",
    "    def __init__(self, k, mean=0.0, std=1.0, step_std=0.0):\n",
    "        self.q_star = np.random.normal(loc=mean, scale=std, size=k)\n",
    "        self.step_std = step_std\n",
    "  \n",
    "    def __getitem__(self, i):\n",
    "        self.q_star += np.random.normal(\n",
    "            loc=0.0, scale=self.step_std, size=self.q_star.shape)\n",
    "        return np.random.normal(loc=self.q_star[i], scale=1.0)\n",
    "    \n",
    "    def visualize(self, ax=None):\n",
    "        x = np.tile(np.arange(self.q_star.shape[0]), (100, 1)).T\n",
    "        y = np.random.normal(loc=self.q_star, scale=1.0, size=(100, 10)).T\n",
    "        sns.violinplot(x=x.flatten(), y=y.flatten(), ax=ax)\n",
    "\n",
    "\n",
    "class KArmedAgent:\n",
    "    def __init__(self, k):\n",
    "        self.q = np.zeros((k,))\n",
    "        self.action = -1\n",
    "        self.steps = np.zeros((k,))\n",
    "    \n",
    "    def observe(self, reward): return NotImplementedError()\n",
    "    def take_action(self): return NotImplementedError()"
   ]
  },
  {
   "cell_type": "markdown",
   "metadata": {},
   "source": [
    "## Excercise 2.5"
   ]
  },
  {
   "cell_type": "code",
   "execution_count": 3,
   "metadata": {},
   "outputs": [],
   "source": [
    "class EpsilonGreedy(KArmedAgent):\n",
    "    def __init__(self, k, epsilon=0.0, alpha=None):\n",
    "        super().__init__(k)\n",
    "        self.epsilon = epsilon\n",
    "        self.alpha = alpha\n",
    "    \n",
    "    def observe(self, reward):\n",
    "        if self.alpha is None:\n",
    "            d = 1. / self.steps[self.action]\n",
    "        else:\n",
    "            d = self.alpha\n",
    "        q_prev = self.q[self.action]\n",
    "        q_next = q_prev + (reward - q_prev) * d\n",
    "        self.q[self.action] = q_next\n",
    "    \n",
    "    def take_action(self):\n",
    "        if np.random.uniform() < self.epsilon:\n",
    "            self.action = np.random.choice(self.q.shape[0])\n",
    "        else:\n",
    "            self.action = np.argmax(self.q)\n",
    "        self.steps[self.action] += 1\n",
    "        return self.action\n",
    "\n",
    "    \n",
    "def test_agent(testbed, agent, steps=1000):\n",
    "    ground_truth, actions, rewards = \\\n",
    "            np.zeros((steps,), dtype=np.int), \\\n",
    "            np.zeros((steps,), dtype=np.int), \\\n",
    "            np.zeros((steps,))\n",
    "    for step in range(steps):\n",
    "        ground_truth[step] = np.argmax(testbed.q_star)\n",
    "        actions[step] = agent.take_action()\n",
    "        rewards[step] = testbed[actions[step]]\n",
    "        agent.observe(rewards[step])\n",
    "    return ground_truth, actions, rewards"
   ]
  },
  {
   "cell_type": "code",
   "execution_count": 4,
   "metadata": {},
   "outputs": [
    {
     "data": {
      "application/vnd.jupyter.widget-view+json": {
       "model_id": "255d312bd61e4cb7893aa68861aad74f",
       "version_major": 2,
       "version_minor": 0
      },
      "text/plain": [
       "HBox(children=(IntProgress(value=0, max=2000), HTML(value='')))"
      ]
     },
     "metadata": {},
     "output_type": "display_data"
    },
    {
     "name": "stdout",
     "output_type": "stream",
     "text": [
      "\n"
     ]
    },
    {
     "data": {
      "text/plain": [
       "<matplotlib.axes._subplots.AxesSubplot at 0x7f4d6cf6bb38>"
      ]
     },
     "execution_count": 4,
     "metadata": {},
     "output_type": "execute_result"
    },
    {
     "data": {
      "image/png": "[encoded data removed]",
      "text/plain": [
       "<Figure size 432x288 with 1 Axes>"
      ]
     },
     "metadata": {
      "needs_background": "light"
     },
     "output_type": "display_data"
    }
   ],
   "source": [
    "num_tests = 2000\n",
    "num_steps = 10000\n",
    "\n",
    "y1, y2, y3, y4 = (\n",
    "    np.zeros((num_steps,)), np.zeros((num_steps,)),\n",
    "    np.zeros((num_steps,)), np.zeros((num_steps,)))\n",
    "for test in tqdm(range(num_tests)):\n",
    "    agent_a = EpsilonGreedy(10)\n",
    "    agent_b = EpsilonGreedy(10, epsilon=0.1)\n",
    "    agent_c = EpsilonGreedy(10, epsilon=0.01)\n",
    "    agent_d = EpsilonGreedy(10, epsilon=0.1, alpha=0.1)\n",
    "    \n",
    "    gt1, a1, _ = test_agent(KArmedTestbed(10), agent_a, steps=num_steps)\n",
    "    gt2, a2, _ = test_agent(KArmedTestbed(10), agent_b, steps=num_steps)\n",
    "    gt3, a3, _ = test_agent(KArmedTestbed(10), agent_c, steps=num_steps)\n",
    "    gt4, a4, _ = test_agent(KArmedTestbed(10), agent_d, steps=num_steps)\n",
    "    \n",
    "    y1[gt1 == a1] += 1\n",
    "    y2[gt2 == a2] += 1\n",
    "    y3[gt3 == a3] += 1\n",
    "    y4[gt4 == a4] += 1\n",
    "\n",
    "y1 = 100. * y1 / num_tests\n",
    "y2 = 100. * y2 / num_tests\n",
    "y3 = 100. * y3 / num_tests\n",
    "y4 = 100. * y4 / num_tests\n",
    "\n",
    "sns.lineplot(np.arange(num_steps), y1, label='Greedy')\n",
    "sns.lineplot(np.arange(num_steps), y2, label='$\\epsilon = 0.1$')\n",
    "sns.lineplot(np.arange(num_steps), y3, label='$\\epsilon = 0.01$')\n",
    "sns.lineplot(np.arange(num_steps), y4, label='$\\epsilon = 0.1, a = 0.1$')"
   ]
  },
  {
   "cell_type": "code",
   "execution_count": 5,
   "metadata": {},
   "outputs": [
    {
     "data": {
      "application/vnd.jupyter.widget-view+json": {
       "model_id": "73bfec7fa6704d09a4765101414972a6",
       "version_major": 2,
       "version_minor": 0
      },
      "text/plain": [
       "HBox(children=(IntProgress(value=0, max=2000), HTML(value='')))"
      ]
     },
     "metadata": {},
     "output_type": "display_data"
    },
    {
     "name": "stdout",
     "output_type": "stream",
     "text": [
      "\n"
     ]
    },
    {
     "data": {
      "text/plain": [
       "<matplotlib.axes._subplots.AxesSubplot at 0x7f4d6c3e5780>"
      ]
     },
     "execution_count": 5,
     "metadata": {},
     "output_type": "execute_result"
    },
    {
     "data": {
      "image/png": "[encoded data removed]",
      "text/plain": [
       "<Figure size 432x288 with 1 Axes>"
      ]
     },
     "metadata": {
      "needs_background": "light"
     },
     "output_type": "display_data"
    }
   ],
   "source": [
    "num_tests = 2000\n",
    "num_steps = 10000\n",
    "\n",
    "y1, y2 = np.zeros((num_steps,)), np.zeros((num_steps,))\n",
    "for test in tqdm(range(num_tests)):    \n",
    "    agent_a = EpsilonGreedy(10, epsilon=0.1)\n",
    "    agent_b = EpsilonGreedy(10, epsilon=0.1, alpha=0.1)\n",
    "    \n",
    "    \n",
    "    gt1, a1, _ = test_agent(KArmedTestbed(10, std=0.0, step_std=0.01), agent_a, steps=num_steps)\n",
    "    gt2, a2, _ = test_agent(KArmedTestbed(10, std=0.0, step_std=0.01), agent_b, steps=num_steps)\n",
    "    \n",
    "    y1[gt1 == a1] += 1\n",
    "    y2[gt2 == a2] += 1\n",
    "\n",
    "y1 = 100. * y1 / num_tests\n",
    "y2 = 100. * y2 / num_tests\n",
    "\n",
    "sns.lineplot(np.arange(num_steps), y1, label='$\\epsilon = 0.1$')\n",
    "sns.lineplot(np.arange(num_steps), y2, label='$\\epsilon = 0.1, a = 0.1$')"
   ]
  },
  {
   "cell_type": "code",
   "execution_count": null,
   "metadata": {},
   "outputs": [],
   "source": []
  },
  {
   "cell_type": "code",
   "execution_count": null,
   "metadata": {},
   "outputs": [],
   "source": []
  },
  {
   "cell_type": "code",
   "execution_count": null,
   "metadata": {},
   "outputs": [],
   "source": []
  }
 ],
 "metadata": {
  "kernelspec": {
   "display_name": "Python 3",
   "language": "python",
   "name": "python3"
  },
  "language_info": {
   "codemirror_mode": {
    "name": "ipython",
    "version": 3
   },
   "file_extension": ".py",
   "mimetype": "text/x-python",
   "name": "python",
   "nbconvert_exporter": "python",
   "pygments_lexer": "ipython3",
   "version": "3.6.8"
  }
 },
 "nbformat": 4,
 "nbformat_minor": 2
}
